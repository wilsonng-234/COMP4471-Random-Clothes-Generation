{
 "cells": [
  {
   "cell_type": "markdown",
   "metadata": {},
   "source": [
    "# Data Preprocessing"
   ]
  },
  {
   "cell_type": "code",
   "execution_count": null,
   "metadata": {},
   "outputs": [],
   "source": [
    "from utils.dataset_util import remove_background\n",
    "from utils.dataset_util import combine_edges\n",
    "from utils.dataset_util import train_valid_test_split\n",
    "\n",
    "# remove_background(\"datasets/images\", \"datasets/images_without_bg\")\n",
    "# combine_edges(\"datasets/images_without_bg\", \"datasets/combined_images\")\n",
    "train_valid_test_split(\"datasets/combined_images/images\")\n"
   ]
  },
  {
   "cell_type": "markdown",
   "metadata": {},
   "source": [
    "# Train Model"
   ]
  },
  {
   "cell_type": "code",
   "execution_count": null,
   "metadata": {},
   "outputs": [],
   "source": [
    "from model.pix2pix.model import Pix2Pix\n",
    "model = Pix2Pix()\n",
    "model.train()\n"
   ]
  }
 ],
 "metadata": {
  "kernelspec": {
   "display_name": "Python 3 (ipykernel)",
   "language": "python",
   "name": "python3"
  },
  "language_info": {
   "name": "python",
   "version": "3.10.8"
  },
  "orig_nbformat": 4,
  "vscode": {
   "interpreter": {
    "hash": "60885198a8dfe1ced16c23ac096f72f6ecd06116c4798af31038490128a2b26e"
   }
  }
 },
 "nbformat": 4,
 "nbformat_minor": 2
}
